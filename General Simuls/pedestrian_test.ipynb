{
 "cells": [
  {
   "cell_type": "code",
   "execution_count": 1,
   "id": "69233ed0",
   "metadata": {},
   "outputs": [],
   "source": [
    "import numpy as onp\n",
    "import jax.numpy as np\n",
    "from jax import random\n",
    "from jax import jit\n",
    "from jax import vmap\n",
    "from jax import lax\n",
    "from jax import config\n",
    "config.update(\"jax_enable_x64\", True)\n",
    "\n",
    "\n",
    "from jax_md import space, smap, energy, minimize, quantity, simulate, partition, util\n",
    "from jax_md.util import f32\n",
    "\n",
    "from collections import namedtuple\n",
    "\n",
    "vectorize = np.vectorize\n",
    "\n",
    "# normalize = lambda v: v / np.linalg.norm(v, axis=1, keepdims=True)\n",
    "\n",
    "def normalize(v, v_lim=0):\n",
    "    v_norm = np.linalg.norm(v, axis=1, keepdims=True)\n",
    "    return np.where(v_norm > v_lim, v/v_norm, v)\n",
    "\n",
    "\n",
    "from functools import partial\n",
    "from simulator.utils import angle_correct, normal, align_tot\n",
    "from simulator.render import render\n",
    "from simulator.utils import ttc_potential_tot, time_to_collide, ttc_tot, ttc_potential_fn, ttc_force_tot, wall_energy, normalize_cap, wall_energy_tot\n",
    "import matplotlib.pyplot as plt\n",
    "\n",
    "class PedestrianState(namedtuple(\"PedestrianState\", ['position', 'velocity', 'radius', 'goal_velocity'])):\n",
    "    # 'group_velocity'\n",
    "    def orientation(self):\n",
    "        \"\"\"Returns the orientation angle of all pedestrians\"\"\"\n",
    "        return angle_correct(np.atan2(self.position[:, 0], self.position[:, 1]))"
   ]
  },
  {
   "cell_type": "code",
   "execution_count": 2,
   "id": "0c0ede04",
   "metadata": {},
   "outputs": [
    {
     "name": "stdout",
     "output_type": "stream",
     "text": [
      "3.7477961645620224\n"
     ]
    }
   ],
   "source": [
    "displacement, shift = space.free()\n",
    "\n",
    "dpos = np.array([5, 0])\n",
    "rela_v = np.array([4.01, 2.99]) / 5\n",
    "print(time_to_collide(dpos, rela_v, np.zeros((2, ), dtype=f32), 1.5))"
   ]
  },
  {
   "cell_type": "code",
   "execution_count": 3,
   "id": "f3147bdd",
   "metadata": {},
   "outputs": [
    {
     "data": {
      "text/plain": [
       "Array(nan, dtype=float64, weak_type=True)"
      ]
     },
     "execution_count": 3,
     "metadata": {},
     "output_type": "execute_result"
    }
   ],
   "source": [
    "np.sqrt(-1)"
   ]
  },
  {
   "cell_type": "code",
   "execution_count": 4,
   "id": "ec99682d",
   "metadata": {},
   "outputs": [
    {
     "name": "stdout",
     "output_type": "stream",
     "text": [
      "[[99.  1.]\n",
      " [ 1. 99.]]\n",
      "[7.13022061e-19 1.07479697e+00 1.07479697e+00 7.13022061e-19]\n"
     ]
    }
   ],
   "source": [
    "pos = np.array([[0.0, 0.0],\n",
    "                [3.0, 0.0]])\n",
    "\n",
    "velocity = np.array([[1.0, 0.0],\n",
    "                     [0.0, 0.0]])\n",
    "\n",
    "print(ttc_tot(pos, velocity, 1, displacement))\n",
    "\n",
    "print(ttc_potential_fn(1.5, np.reshape(ttc_tot(pos, velocity, 1, displacement), shape=(4, )), 3.0))"
   ]
  },
  {
   "cell_type": "code",
   "execution_count": 15,
   "id": "429830b0",
   "metadata": {},
   "outputs": [
    {
     "data": {
      "text/plain": [
       "[<matplotlib.lines.Line2D at 0x16e3ec690>]"
      ]
     },
     "execution_count": 15,
     "metadata": {},
     "output_type": "execute_result"
    },
    {
     "data": {
      "image/png": "[encoded data removed]",
      "text/plain": [
       "<Figure size 640x480 with 1 Axes>"
      ]
     },
     "metadata": {},
     "output_type": "display_data"
    }
   ],
   "source": [
    "dt = np.linspace(0.2, 3., 60)\n",
    "Es = ttc_potential_fn(1.5, dt, 3.0)\n",
    "\n",
    "plt.plot(dt, Es)"
   ]
  },
  {
   "cell_type": "code",
   "execution_count": 11,
   "id": "9e2248a9",
   "metadata": {},
   "outputs": [
    {
     "data": {
      "text/plain": [
       "Array([0, 1, 2, 3, 4, 5, 6, 7, 8, 9], dtype=int64)"
      ]
     },
     "execution_count": 11,
     "metadata": {},
     "output_type": "execute_result"
    }
   ],
   "source": [
    "np.arange(0, 10)\n"
   ]
  },
  {
   "cell_type": "code",
   "execution_count": 3,
   "id": "3dd775f9",
   "metadata": {},
   "outputs": [
    {
     "name": "stdout",
     "output_type": "stream",
     "text": [
      "[[[ 0.          0.        ]\n",
      "  [-5.01571917 -0.        ]]\n",
      "\n",
      " [[ 5.01571917 -0.        ]\n",
      "  [ 0.          0.        ]]]\n",
      "[[[ 0.  0.]\n",
      "  [-1. -0.]]\n",
      "\n",
      " [[ 1. -0.]\n",
      "  [ 0.  0.]]]\n",
      "[[-5.01571917  0.        ]\n",
      " [ 5.01571917  0.        ]]\n",
      "[[-1.  0.]\n",
      " [ 1.  0.]]\n"
     ]
    }
   ],
   "source": [
    "pos = np.array([[0.0, 0.0],\n",
    "                [3.0, 0.0]])\n",
    "\n",
    "velocity = np.array([[1.0, 0.0],\n",
    "                     [0.0, 0.0]])\n",
    "\n",
    "print(ttc_force_tot(pos, velocity, 1.0, displacement))\n",
    "print(normalize_cap(ttc_force_tot(pos, velocity, 1.0, displacement), 5))\n",
    "\n",
    "print(np.sum(ttc_force_tot(pos, velocity, 1.0, displacement), axis=1))\n",
    "print(np.sum(normalize_cap(ttc_force_tot(pos, velocity, 1.0, displacement)), axis=1))\n",
    "\n",
    "# print(normalize(ttc_force_tot(pos, velocity, 1.0, displacement)))\n",
    "# print(np.sum(ttc_force_tot(pos, velocity, 1.0, displacement), axis=1))\n",
    "# print(np.sum(normalize(ttc_force_tot(pos, velocity, 1.0, displacement)), axis=1))"
   ]
  },
  {
   "cell_type": "code",
   "execution_count": 5,
   "id": "9f9dd1a3",
   "metadata": {},
   "outputs": [
    {
     "name": "stdout",
     "output_type": "stream",
     "text": [
      "0.30000000000000004\n",
      "[[0.   0.04]\n",
      " [0.   0.01]]\n"
     ]
    }
   ],
   "source": [
    "# @jit\n",
    "# def wall_energy(pos, wall):\n",
    "#    wall_start, wall_end = wall\n",
    "#    wall_tangent = wall_end - wall_start\n",
    "#    wall_normal = test_normalize_cap(np.array([-wall_tangent[1], wall_tangent[0]]))\n",
    "\n",
    "#    return 1/np.dot(pos, wall_normal)\n",
    "\n",
    "print(wall_energy(np.array([[0.0, 5.0], [3.0, 10.0]]), np.array([[0, 0], [10, 0]])))\n",
    "print(quantity.force(wall_energy)(np.array([[0.0, 5.0], [3.0, 10.0]]), np.array([[0, 0], [10, 0]])))"
   ]
  },
  {
   "cell_type": "code",
   "execution_count": 12,
   "id": "583e84cb",
   "metadata": {},
   "outputs": [
    {
     "name": "stdout",
     "output_type": "stream",
     "text": [
      "[-4.  3.]\n"
     ]
    }
   ],
   "source": [
    "def wall_dist(pos, start, end):\n",
    "    wall_len = np.dot(end - start, end - start)\n",
    "    # t = max(0, min(1, np.dot(pos - start, end - start) / wall_len))\n",
    "    t = np.max(np.array([0, np.min(np.array([1, np.dot(pos - start, end - start) / wall_len]), axis = 0)]), axis = 0)\n",
    "    proj = start + t * (end - start)\n",
    "    return displacement(pos, proj)\n",
    "\n",
    "print(wall_dist(np.array([0.0, 3.0]), np.array([4.0, 0.0]), np.array([10.0, 0.0])))"
   ]
  },
  {
   "cell_type": "code",
   "execution_count": 16,
   "id": "f93de20d",
   "metadata": {},
   "outputs": [
    {
     "ename": "AttributeError",
     "evalue": "BatchTracer has no attribute start",
     "output_type": "error",
     "traceback": [
      "\u001b[31m---------------------------------------------------------------------------\u001b[39m",
      "\u001b[31mAttributeError\u001b[39m                            Traceback (most recent call last)",
      "\u001b[36mFile \u001b[39m\u001b[32m~/Documents/MIT/UROP_1/Work/.venv/lib/python3.13/site-packages/jax/_src/core.py:936\u001b[39m, in \u001b[36mTracer.__getattr__\u001b[39m\u001b[34m(self, name)\u001b[39m\n\u001b[32m    935\u001b[39m \u001b[38;5;28;01mtry\u001b[39;00m:\n\u001b[32m--> \u001b[39m\u001b[32m936\u001b[39m   attr = \u001b[38;5;28;43mgetattr\u001b[39;49m\u001b[43m(\u001b[49m\u001b[38;5;28;43mself\u001b[39;49m\u001b[43m.\u001b[49m\u001b[43maval\u001b[49m\u001b[43m,\u001b[49m\u001b[43m \u001b[49m\u001b[43mname\u001b[49m\u001b[43m)\u001b[49m\n\u001b[32m    937\u001b[39m \u001b[38;5;28;01mexcept\u001b[39;00m \u001b[38;5;167;01mAttributeError\u001b[39;00m \u001b[38;5;28;01mas\u001b[39;00m err:\n",
      "\u001b[31mAttributeError\u001b[39m: 'ShapedArray' object has no attribute 'start'",
      "\nThe above exception was the direct cause of the following exception:\n",
      "\u001b[31mAttributeError\u001b[39m                            Traceback (most recent call last)",
      "\u001b[36mCell\u001b[39m\u001b[36m \u001b[39m\u001b[32mIn[16]\u001b[39m\u001b[32m, line 14\u001b[39m\n\u001b[32m     11\u001b[39m \u001b[38;5;28;01mdef\u001b[39;00m\u001b[38;5;250m \u001b[39m\u001b[34mtrue_wall_energy_tot\u001b[39m(poss, walls, displacement):\n\u001b[32m     12\u001b[39m     \u001b[38;5;28;01mreturn\u001b[39;00m vmap(wall_energy_tot, (\u001b[38;5;28;01mNone\u001b[39;00m, \u001b[32m0\u001b[39m, \u001b[38;5;28;01mNone\u001b[39;00m))(poss, walls, displacement)\n\u001b[32m---> \u001b[39m\u001b[32m14\u001b[39m \u001b[43mtrue_wall_energy_tot\u001b[49m\u001b[43m(\u001b[49m\u001b[43mpos\u001b[49m\u001b[43m,\u001b[49m\u001b[43m \u001b[49m\u001b[43mwalls\u001b[49m\u001b[43m,\u001b[49m\u001b[43m \u001b[49m\u001b[43mdisplacement\u001b[49m\u001b[43m)\u001b[49m\n",
      "\u001b[36mCell\u001b[39m\u001b[36m \u001b[39m\u001b[32mIn[16]\u001b[39m\u001b[32m, line 12\u001b[39m, in \u001b[36mtrue_wall_energy_tot\u001b[39m\u001b[34m(poss, walls, displacement)\u001b[39m\n\u001b[32m     11\u001b[39m \u001b[38;5;28;01mdef\u001b[39;00m\u001b[38;5;250m \u001b[39m\u001b[34mtrue_wall_energy_tot\u001b[39m(poss, walls, displacement):\n\u001b[32m---> \u001b[39m\u001b[32m12\u001b[39m     \u001b[38;5;28;01mreturn\u001b[39;00m \u001b[43mvmap\u001b[49m\u001b[43m(\u001b[49m\u001b[43mwall_energy_tot\u001b[49m\u001b[43m,\u001b[49m\u001b[43m \u001b[49m\u001b[43m(\u001b[49m\u001b[38;5;28;43;01mNone\u001b[39;49;00m\u001b[43m,\u001b[49m\u001b[43m \u001b[49m\u001b[32;43m0\u001b[39;49m\u001b[43m,\u001b[49m\u001b[43m \u001b[49m\u001b[38;5;28;43;01mNone\u001b[39;49;00m\u001b[43m)\u001b[49m\u001b[43m)\u001b[49m\u001b[43m(\u001b[49m\u001b[43mposs\u001b[49m\u001b[43m,\u001b[49m\u001b[43m \u001b[49m\u001b[43mwalls\u001b[49m\u001b[43m,\u001b[49m\u001b[43m \u001b[49m\u001b[43mdisplacement\u001b[49m\u001b[43m)\u001b[49m\n",
      "    \u001b[31m[... skipping hidden 7 frame]\u001b[39m\n",
      "\u001b[36mFile \u001b[39m\u001b[32m~/Documents/MIT/UROP_1/Work/General Simuls/simulator/utils.py:107\u001b[39m, in \u001b[36mwall_energy_tot\u001b[39m\u001b[34m(poss, wall, displacement)\u001b[39m\n\u001b[32m    106\u001b[39m \u001b[38;5;28;01mdef\u001b[39;00m\u001b[38;5;250m \u001b[39m\u001b[34mwall_energy_tot\u001b[39m(poss, wall, displacement):\n\u001b[32m--> \u001b[39m\u001b[32m107\u001b[39m    \u001b[38;5;28;01mreturn\u001b[39;00m np.sum(\u001b[43mvmap\u001b[49m\u001b[43m(\u001b[49m\u001b[43mwall_energy\u001b[49m\u001b[43m,\u001b[49m\u001b[43m \u001b[49m\u001b[43m(\u001b[49m\u001b[32;43m0\u001b[39;49m\u001b[43m,\u001b[49m\u001b[43m \u001b[49m\u001b[38;5;28;43;01mNone\u001b[39;49;00m\u001b[43m,\u001b[49m\u001b[43m \u001b[49m\u001b[38;5;28;43;01mNone\u001b[39;49;00m\u001b[43m)\u001b[49m\u001b[43m)\u001b[49m\u001b[43m(\u001b[49m\u001b[43mposs\u001b[49m\u001b[43m,\u001b[49m\u001b[43m \u001b[49m\u001b[43mwall\u001b[49m\u001b[43m,\u001b[49m\u001b[43m \u001b[49m\u001b[43mdisplacement\u001b[49m\u001b[43m)\u001b[49m)\n",
      "    \u001b[31m[... skipping hidden 7 frame]\u001b[39m\n",
      "\u001b[36mFile \u001b[39m\u001b[32m~/Documents/MIT/UROP_1/Work/General Simuls/simulator/utils.py:99\u001b[39m, in \u001b[36mwall_energy\u001b[39m\u001b[34m(pos, wall, displacement)\u001b[39m\n\u001b[32m     88\u001b[39m \u001b[38;5;28;01mdef\u001b[39;00m\u001b[38;5;250m \u001b[39m\u001b[34mwall_energy\u001b[39m(pos, wall, displacement):\n\u001b[32m     89\u001b[39m \u001b[38;5;250m   \u001b[39m\u001b[33;03m\"\"\"\u001b[39;00m\n\u001b[32m     90\u001b[39m \u001b[33;03m   Used to model the repulsion between a particle and a wall.\u001b[39;00m\n\u001b[32m     91\u001b[39m \n\u001b[32m   (...)\u001b[39m\u001b[32m     97\u001b[39m \u001b[33;03m      Interaction between particle and the wall\u001b[39;00m\n\u001b[32m     98\u001b[39m \u001b[33;03m   \"\"\"\u001b[39;00m\n\u001b[32m---> \u001b[39m\u001b[32m99\u001b[39m    start = lax.stop_gradient(\u001b[43mwall\u001b[49m\u001b[43m.\u001b[49m\u001b[43mstart\u001b[49m)\n\u001b[32m    100\u001b[39m    end = lax.stop_gradient(wall.end)\n\u001b[32m    102\u001b[39m    dist = wall_dist(pos, start, end, displacement)\n",
      "\u001b[36mFile \u001b[39m\u001b[32m~/Documents/MIT/UROP_1/Work/.venv/lib/python3.13/site-packages/jax/_src/core.py:938\u001b[39m, in \u001b[36mTracer.__getattr__\u001b[39m\u001b[34m(self, name)\u001b[39m\n\u001b[32m    936\u001b[39m   attr = \u001b[38;5;28mgetattr\u001b[39m(\u001b[38;5;28mself\u001b[39m.aval, name)\n\u001b[32m    937\u001b[39m \u001b[38;5;28;01mexcept\u001b[39;00m \u001b[38;5;167;01mAttributeError\u001b[39;00m \u001b[38;5;28;01mas\u001b[39;00m err:\n\u001b[32m--> \u001b[39m\u001b[32m938\u001b[39m   \u001b[38;5;28;01mraise\u001b[39;00m \u001b[38;5;167;01mAttributeError\u001b[39;00m(\n\u001b[32m    939\u001b[39m       \u001b[33mf\u001b[39m\u001b[33m\"\u001b[39m\u001b[38;5;132;01m{\u001b[39;00m\u001b[38;5;28mself\u001b[39m.\u001b[34m__class__\u001b[39m.\u001b[34m__name__\u001b[39m\u001b[38;5;132;01m}\u001b[39;00m\u001b[33m has no attribute \u001b[39m\u001b[38;5;132;01m{\u001b[39;00mname\u001b[38;5;132;01m}\u001b[39;00m\u001b[33m\"\u001b[39m\n\u001b[32m    940\u001b[39m   ) \u001b[38;5;28;01mfrom\u001b[39;00m\u001b[38;5;250m \u001b[39m\u001b[34;01merr\u001b[39;00m\n\u001b[32m    941\u001b[39m \u001b[38;5;28;01melse\u001b[39;00m:\n\u001b[32m    942\u001b[39m   t = \u001b[38;5;28mtype\u001b[39m(attr)\n",
      "\u001b[31mAttributeError\u001b[39m: BatchTracer has no attribute start"
     ]
    }
   ],
   "source": [
    "class StraightWall(namedtuple('StraightWall', ['start', 'end'])):\n",
    "    pass\n",
    "\n",
    "pos = np.array([[1.0, 0.0],\n",
    "                [3.0, 0.0]])\n",
    "\n",
    "wall1 = StraightWall(np.array([4.0, 0.0]), np.array([10.0, 0.0]))\n",
    "wall2 = StraightWall(np.array([0.0, 1.0]), np.array([0.0, 9.0]))\n",
    "walls = np.array([wall1, wall2])\n",
    "\n",
    "def true_wall_energy_tot(poss, walls, displacement):\n",
    "    return vmap(wall_energy_tot, (None, 0, None))(poss, walls, displacement)\n",
    "\n",
    "true_wall_energy_tot(pos, walls, displacement)\n"
   ]
  }
 ],
 "metadata": {
  "kernelspec": {
   "display_name": ".venv",
   "language": "python",
   "name": "python3"
  },
  "language_info": {
   "codemirror_mode": {
    "name": "ipython",
    "version": 3
   },
   "file_extension": ".py",
   "mimetype": "text/x-python",
   "name": "python",
   "nbconvert_exporter": "python",
   "pygments_lexer": "ipython3",
   "version": "3.13.1"
  }
 },
 "nbformat": 4,
 "nbformat_minor": 5
}
