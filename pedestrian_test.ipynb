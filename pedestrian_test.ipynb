{
 "cells": [
  {
   "cell_type": "code",
   "execution_count": 1,
   "id": "69233ed0",
   "metadata": {},
   "outputs": [],
   "source": [
    "import numpy as onp\n",
    "import jax.numpy as np\n",
    "from jax import random\n",
    "from jax import jit\n",
    "from jax import vmap\n",
    "from jax import lax\n",
    "from jax import config\n",
    "config.update(\"jax_enable_x64\", True)\n",
    "\n",
    "\n",
    "from jax_md import space, smap, energy, minimize, quantity, simulate, partition, util\n",
    "from jax_md.util import f32\n",
    "\n",
    "from collections import namedtuple\n",
    "\n",
    "vectorize = np.vectorize\n",
    "\n",
    "# normalize = lambda v: v / np.linalg.norm(v, axis=1, keepdims=True)\n",
    "\n",
    "def normalize(v, v_lim=0):\n",
    "    v_norm = np.linalg.norm(v, axis=1, keepdims=True)\n",
    "    return np.where(v_norm > v_lim, v/v_norm, v)\n",
    "\n",
    "\n",
    "from functools import partial\n",
    "from simulator.utils import angle_correct, normal, align_tot, general_force_generator_TEST_1, general_force_generator_TEST_2\n",
    "from simulator.render import render\n",
    "from simulator.utils import ttc_potential_tot, time_to_collide, ttc_tot, ttc_potential_fn, ttc_force_tot, wall_energy, normalize_cap, wall_energy_tot\n",
    "import matplotlib.pyplot as plt\n",
    "\n",
    "class PedestrianState(namedtuple(\"PedestrianState\", ['position', 'velocity', 'radius', 'goal_velocity'])):\n",
    "    # 'group_velocity'\n",
    "    def orientation(self):\n",
    "        \"\"\"Returns the orientation angle of all pedestrians\"\"\"\n",
    "        return angle_correct(np.atan2(self.position[:, 0], self.position[:, 1]))"
   ]
  },
  {
   "cell_type": "code",
   "execution_count": null,
   "id": "0c0ede04",
   "metadata": {},
   "outputs": [],
   "source": [
    "displacement, shift = space.free()\n",
    "\n",
    "dpos = np.array([5, 0])\n",
    "rela_v = np.array([4.01, 2.99]) / 5\n",
    "print(time_to_collide(dpos, rela_v, np.zeros((2, ), dtype=f32), 1.5))"
   ]
  },
  {
   "cell_type": "code",
   "execution_count": null,
   "id": "f3147bdd",
   "metadata": {},
   "outputs": [],
   "source": [
    "np.sqrt(-1)"
   ]
  },
  {
   "cell_type": "code",
   "execution_count": null,
   "id": "ec99682d",
   "metadata": {},
   "outputs": [],
   "source": [
    "pos = np.array([[0.0, 0.0],\n",
    "                [3.0, 0.0]])\n",
    "\n",
    "velocity = np.array([[1.0, 0.0],\n",
    "                     [0.0, 0.0]])\n",
    "\n",
    "print(ttc_tot(pos, velocity, 1, displacement))\n",
    "\n",
    "print(ttc_potential_fn(1.5, np.reshape(ttc_tot(pos, velocity, 1, displacement), shape=(4, )), 3.0))"
   ]
  },
  {
   "cell_type": "code",
   "execution_count": null,
   "id": "429830b0",
   "metadata": {},
   "outputs": [],
   "source": [
    "dt = np.linspace(0.2, 3., 60)\n",
    "Es = ttc_potential_fn(1.5, dt, 3.0)\n",
    "\n",
    "plt.plot(dt, Es)"
   ]
  },
  {
   "cell_type": "code",
   "execution_count": null,
   "id": "9e2248a9",
   "metadata": {},
   "outputs": [],
   "source": [
    "np.arange(0, 10)\n"
   ]
  },
  {
   "cell_type": "code",
   "execution_count": null,
   "id": "3dd775f9",
   "metadata": {},
   "outputs": [],
   "source": [
    "pos = np.array([[0.0, 0.0],\n",
    "                [3.0, 0.0]])\n",
    "\n",
    "velocity = np.array([[1.0, 0.0],\n",
    "                     [0.0, 0.0]])\n",
    "\n",
    "print(ttc_force_tot(pos, velocity, 1.0, displacement))\n",
    "print(normalize_cap(ttc_force_tot(pos, velocity, 1.0, displacement), 5))\n",
    "\n",
    "print(np.sum(ttc_force_tot(pos, velocity, 1.0, displacement), axis=1))\n",
    "print(np.sum(normalize_cap(ttc_force_tot(pos, velocity, 1.0, displacement)), axis=1))\n",
    "\n",
    "# print(normalize(ttc_force_tot(pos, velocity, 1.0, displacement)))\n",
    "# print(np.sum(ttc_force_tot(pos, velocity, 1.0, displacement), axis=1))\n",
    "# print(np.sum(normalize(ttc_force_tot(pos, velocity, 1.0, displacement)), axis=1))"
   ]
  },
  {
   "cell_type": "code",
   "execution_count": null,
   "id": "9f9dd1a3",
   "metadata": {},
   "outputs": [],
   "source": [
    "# @jit\n",
    "# def wall_energy(pos, wall):\n",
    "#    wall_start, wall_end = wall\n",
    "#    wall_tangent = wall_end - wall_start\n",
    "#    wall_normal = test_normalize_cap(np.array([-wall_tangent[1], wall_tangent[0]]))\n",
    "\n",
    "#    return 1/np.dot(pos, wall_normal)\n",
    "\n",
    "print(wall_energy(np.array([[0.0, 5.0], [3.0, 10.0]]), np.array([[0, 0], [10, 0]])))\n",
    "print(quantity.force(wall_energy)(np.array([[0.0, 5.0], [3.0, 10.0]]), np.array([[0, 0], [10, 0]])))"
   ]
  },
  {
   "cell_type": "code",
   "execution_count": null,
   "id": "583e84cb",
   "metadata": {},
   "outputs": [],
   "source": [
    "def wall_dist(pos, start, end):\n",
    "    wall_len = np.dot(end - start, end - start)\n",
    "    # t = max(0, min(1, np.dot(pos - start, end - start) / wall_len))\n",
    "    t = np.max(np.array([0, np.min(np.array([1, np.dot(pos - start, end - start) / wall_len]), axis = 0)]), axis = 0)\n",
    "    proj = start + t * (end - start)\n",
    "    return displacement(pos, proj)\n",
    "\n",
    "print(wall_dist(np.array([0.0, 3.0]), np.array([4.0, 0.0]), np.array([10.0, 0.0])))"
   ]
  },
  {
   "cell_type": "code",
   "execution_count": null,
   "id": "f93de20d",
   "metadata": {},
   "outputs": [],
   "source": [
    "class StraightWall(namedtuple('StraightWall', ['start', 'end'])):\n",
    "    pass\n",
    "\n",
    "pos = np.array([[1.0, 0.0],\n",
    "                [3.0, 0.0]])\n",
    "\n",
    "wall1 = StraightWall(np.array([4.0, 0.0]), np.array([10.0, 0.0]))\n",
    "wall2 = StraightWall(np.array([0.0, 1.0]), np.array([0.0, 9.0]))\n",
    "walls = np.array([wall1, wall2])\n",
    "\n",
    "def true_wall_energy_tot(poss, walls, displacement):\n",
    "    return vmap(wall_energy_tot, (None, 0, None))(poss, walls, displacement)\n",
    "\n",
    "true_wall_energy_tot(pos, walls, displacement)\n"
   ]
  },
  {
   "cell_type": "code",
   "execution_count": 6,
   "id": "9e348aad",
   "metadata": {},
   "outputs": [
    {
     "name": "stdout",
     "output_type": "stream",
     "text": [
      "test_1_init_runtime = 4.291534423828125e-06\n",
      "test_2_init_runtime = 0.0023763179779052734\n"
     ]
    }
   ],
   "source": [
    "paral = np.array([\n",
    "    [[1, 0, 0, 0, 0, 0], [0, 0, 0, 0, 0, 0]],\n",
    "    [[0, 0, 0, 0, 0, 0], [0, 0, 0, 0, 0, 0]]\n",
    "])\n",
    "perpen = np.array([\n",
    "    [[0, 0, 0, 0, 0, 0], [0, 0, 0, 0, 0, 0]],\n",
    "    [[0, 0, 0, 0, 0, 0], [0, 0, 0, 0, 0, 0]]\n",
    "])\n",
    "\n",
    "force1 = general_force_generator_TEST_1(paral, perpen, 10., 10.)\n",
    "force2 = general_force_generator_TEST_2(paral, perpen, 10., 10.)"
   ]
  },
  {
   "cell_type": "code",
   "execution_count": 7,
   "id": "6ff82483",
   "metadata": {},
   "outputs": [
    {
     "name": "stdout",
     "output_type": "stream",
     "text": [
      "test_1_runtime = 0.042883872985839844\n",
      "[-0.57126507  0.        ]\n",
      "test_2_runtime = 0.0419001579284668\n",
      "[-0.57126507  0.        ]\n"
     ]
    }
   ],
   "source": [
    "dpos = np.array([10.0, 2.0])\n",
    "V_1 = np.array([1.0, 0.0])\n",
    "V_2 = np.array([2.0, 0.0])\n",
    "print(force1(dpos, V_1, V_2))\n",
    "print(force2(dpos, V_1, V_2))"
   ]
  },
  {
   "cell_type": "code",
   "execution_count": 6,
   "id": "5efd394d",
   "metadata": {},
   "outputs": [
    {
     "data": {
      "text/plain": [
       "Array(1., dtype=float64, weak_type=True)"
      ]
     },
     "execution_count": 6,
     "metadata": {},
     "output_type": "execute_result"
    }
   ],
   "source": [
    "np.round(1.1010, 0)"
   ]
  },
  {
   "cell_type": "code",
   "execution_count": null,
   "id": "64409250",
   "metadata": {},
   "outputs": [],
   "source": []
  }
 ],
 "metadata": {
  "kernelspec": {
   "display_name": ".venv (3.13.1)",
   "language": "python",
   "name": "python3"
  },
  "language_info": {
   "codemirror_mode": {
    "name": "ipython",
    "version": 3
   },
   "file_extension": ".py",
   "mimetype": "text/x-python",
   "name": "python",
   "nbconvert_exporter": "python",
   "pygments_lexer": "ipython3",
   "version": "3.13.1"
  }
 },
 "nbformat": 4,
 "nbformat_minor": 5
}
